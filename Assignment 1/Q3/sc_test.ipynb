{
 "cells": [
  {
   "cell_type": "code",
   "execution_count": 66,
   "metadata": {},
   "outputs": [],
   "source": [
    "from web3 import Web3\n",
    "infura_url = \"https://sepolia.infura.io/v3/d32544fba98b4074bb60a9635b4b1121\"\n",
    "w3 = Web3(Web3.HTTPProvider(infura_url))"
   ]
  },
  {
   "cell_type": "code",
   "execution_count": 67,
   "metadata": {},
   "outputs": [],
   "source": [
    "abi = [{'inputs': [{'internalType': 'uint256', 'name': '_quota', 'type': 'uint256'}, {'internalType': 'uint256', 'name': '_price', 'type': 'uint256'}], 'stateMutability': 'nonpayable', 'type': 'constructor'}, {'inputs': [{'internalType': 'string', 'name': 'email', 'type': 'string'}, {'internalType': 'uint256', 'name': 'numTickets', 'type': 'uint256'}], 'name': 'buyTicket', 'outputs': [], 'stateMutability': 'payable', 'type': 'function'}, {'inputs': [{'internalType': 'address', 'name': '', 'type': 'address'}], 'name': 'buyersPaid', 'outputs': [{'internalType': 'uint256', 'name': 'totalPrice', 'type': 'uint256'}, {'internalType': 'uint256', 'name': 'numTickets', 'type': 'uint256'}, {'internalType': 'string', 'name': 'email', 'type': 'string'}], 'stateMutability': 'view', 'type': 'function'}, {'inputs': [{'internalType': 'address', 'name': 'buyer', 'type': 'address'}], 'name': 'getBuyerAmountPaid', 'outputs': [{'internalType': 'uint256', 'name': '', 'type': 'uint256'}], 'stateMutability': 'view', 'type': 'function'}, {'inputs': [], 'name': 'kill', 'outputs': [], 'stateMutability': 'nonpayable', 'type': 'function'}, {'inputs': [], 'name': 'maxOccupancy', 'outputs': [{'internalType': 'uint256', 'name': '', 'type': 'uint256'}], 'stateMutability': 'view', 'type': 'function'}, {'inputs': [], 'name': 'numTicketsSold', 'outputs': [{'internalType': 'uint256', 'name': '', 'type': 'uint256'}], 'stateMutability': 'view', 'type': 'function'}, {'inputs': [], 'name': 'owner', 'outputs': [{'internalType': 'address', 'name': '', 'type': 'address'}], 'stateMutability': 'view', 'type': 'function'}, {'inputs': [], 'name': 'price', 'outputs': [{'internalType': 'uint256', 'name': '', 'type': 'uint256'}], 'stateMutability': 'view', 'type': 'function'}, {'inputs': [{'internalType': 'address', 'name': 'buyer', 'type': 'address'}], 'name': 'refundTicket', 'outputs': [], 'stateMutability': 'nonpayable', 'type': 'function'}, {'inputs': [], 'name': 'withdrawFunds', 'outputs': [], 'stateMutability': 'nonpayable', 'type': 'function'}]\n",
    "contract_addr = \"0xF98bFe8bf2FfFAa32652fF8823Bba6714c79eDd4\"\n",
    "chain_id = 11155111\n",
    "wallet_addr = \"0x9b3710f9b284eAC355F1721B00C381c626250439\"\n",
    "nonce = w3.eth.get_transaction_count(wallet_addr)\n",
    "acc_private_key = \"0x22751dbfeddda2597c6ae0fbb3008ec8dd9f5f3902d29410fa84c3d96f73ffb1\"\n",
    "t_cnt = 0"
   ]
  },
  {
   "cell_type": "code",
   "execution_count": 68,
   "metadata": {},
   "outputs": [
    {
     "name": "stdout",
     "output_type": "stream",
     "text": [
      "Nonce: 0\n"
     ]
    },
    {
     "data": {
      "text/plain": [
       "188910"
      ]
     },
     "execution_count": 68,
     "metadata": {},
     "output_type": "execute_result"
    }
   ],
   "source": [
    "print(f\"Nonce: {nonce}\")\n",
    "w3.eth.gas_price"
   ]
  },
  {
   "cell_type": "code",
   "execution_count": 69,
   "metadata": {},
   "outputs": [],
   "source": [
    "contract_instance = w3.eth.contract(abi=abi, address=contract_addr)"
   ]
  },
  {
   "cell_type": "code",
   "execution_count": 70,
   "metadata": {},
   "outputs": [
    {
     "name": "stdout",
     "output_type": "stream",
     "text": [
      "Roll: happy001\n"
     ]
    }
   ],
   "source": [
    "q_addr = \"0x328Ff6652cc4E79f69B165fC570e3A0F468fc903\"\n",
    "roll = contract_instance.functions.get(q_addr).call()\n",
    "print(f\"Roll: {roll}\")"
   ]
  },
  {
   "cell_type": "code",
   "execution_count": 71,
   "metadata": {},
   "outputs": [],
   "source": [
    "new_roll = \"20CS10064\"\n",
    "t_cnt += 1\n",
    "txn = contract_instance.functions.update(new_roll).build_transaction(\n",
    "    {\n",
    "        'gas': 1000000,\n",
    "        'gasPrice': w3.eth.gas_price,\n",
    "        'chainId': chain_id,\n",
    "        'nonce': nonce,\n",
    "    }\n",
    ")"
   ]
  },
  {
   "cell_type": "code",
   "execution_count": 72,
   "metadata": {},
   "outputs": [
    {
     "data": {
      "text/plain": [
       "SignedTransaction(rawTransaction=HexBytes('0xf8cc808302e1ee830f424094f98bfe8bf2fffaa32652ff8823bba6714c79edd480b8643d7403a30000000000000000000000000000000000000000000000000000000000000020000000000000000000000000000000000000000000000000000000000000000932304353313030363400000000000000000000000000000000000000000000008401546d72a0188191ca2c91f35b33ae2ec7d25783973ab172f6a540dd30909b8ee1ccdfcb90a04c14e1eda88e3ff1a6eb4d9879d8f8f82d6553a28e04cd7cc4eb31da3996a083'), hash=HexBytes('0xb742ba561006cd6c8b8d25635fc7b415ccc23bcea0bf631ba29bcdc5b635fc34'), r=11084437841178097727702064326095251230429180572044489135489750314153267940240, s=34412672733810184360591768721705241277502156358008992837276850898804141367427, v=22310258)"
      ]
     },
     "execution_count": 72,
     "metadata": {},
     "output_type": "execute_result"
    }
   ],
   "source": [
    "signed_txn = w3.eth.account.sign_transaction(txn, private_key=acc_private_key)\n",
    "signed_txn"
   ]
  },
  {
   "cell_type": "code",
   "execution_count": 73,
   "metadata": {},
   "outputs": [
    {
     "data": {
      "text/plain": [
       "HexBytes('0xb742ba561006cd6c8b8d25635fc7b415ccc23bcea0bf631ba29bcdc5b635fc34')"
      ]
     },
     "execution_count": 73,
     "metadata": {},
     "output_type": "execute_result"
    }
   ],
   "source": [
    "txn_hash = w3.eth.send_raw_transaction(signed_txn.rawTransaction)\n",
    "txn_hash"
   ]
  },
  {
   "cell_type": "code",
   "execution_count": 75,
   "metadata": {},
   "outputs": [
    {
     "data": {
      "text/plain": [
       "AttributeDict({'blockHash': HexBytes('0x83eb24185f59b086fc819e85d2f6247fccf00e79f11f35ba84885a79c8f0571d'),\n",
       " 'blockNumber': 4280375,\n",
       " 'contractAddress': None,\n",
       " 'cumulativeGasUsed': 14169195,\n",
       " 'effectiveGasPrice': 188910,\n",
       " 'from': '0x9b3710f9b284eAC355F1721B00C381c626250439',\n",
       " 'gasUsed': 45166,\n",
       " 'logs': [],\n",
       " 'logsBloom': HexBytes('0x00000000000000000000000000000000000000000000000000000000000000000000000000000000000000000000000000000000000000000000000000000000000000000000000000000000000000000000000000000000000000000000000000000000000000000000000000000000000000000000000000000000000000000000000000000000000000000000000000000000000000000000000000000000000000000000000000000000000000000000000000000000000000000000000000000000000000000000000000000000000000000000000000000000000000000000000000000000000000000000000000000000000000000000000000000000'),\n",
       " 'status': 1,\n",
       " 'to': '0xF98bFe8bf2FfFAa32652fF8823Bba6714c79eDd4',\n",
       " 'transactionHash': HexBytes('0xb742ba561006cd6c8b8d25635fc7b415ccc23bcea0bf631ba29bcdc5b635fc34'),\n",
       " 'transactionIndex': 55,\n",
       " 'type': 0})"
      ]
     },
     "execution_count": 75,
     "metadata": {},
     "output_type": "execute_result"
    }
   ],
   "source": [
    "txn_receipt = w3.eth.wait_for_transaction_receipt(txn_hash)\n",
    "txn_receipt"
   ]
  }
 ],
 "metadata": {
  "kernelspec": {
   "display_name": "Python 3.9.16 ('base')",
   "language": "python",
   "name": "python3"
  },
  "language_info": {
   "codemirror_mode": {
    "name": "ipython",
    "version": 3
   },
   "file_extension": ".py",
   "mimetype": "text/x-python",
   "name": "python",
   "nbconvert_exporter": "python",
   "pygments_lexer": "ipython3",
   "version": "3.9.16"
  },
  "orig_nbformat": 4,
  "vscode": {
   "interpreter": {
    "hash": "98087a3b5cfceee0fda9a712983794cb22a698638ca045e3f151134ef97e2d36"
   }
  }
 },
 "nbformat": 4,
 "nbformat_minor": 2
}
